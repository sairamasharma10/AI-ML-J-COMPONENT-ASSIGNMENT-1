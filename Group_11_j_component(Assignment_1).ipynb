{
  "nbformat": 4,
  "nbformat_minor": 0,
  "metadata": {
    "colab": {
      "name": "Group-11-j-component(Assignment-1).ipynb",
      "provenance": [],
      "collapsed_sections": []
    },
    "kernelspec": {
      "name": "python3",
      "display_name": "Python 3"
    },
    "language_info": {
      "name": "python"
    }
  },
  "cells": [
    {
      "cell_type": "code",
      "source": [
        "from google.colab import drive\n",
        "drive.mount('/content/drive')"
      ],
      "metadata": {
        "colab": {
          "base_uri": "https://localhost:8080/"
        },
        "id": "aeFeduAzVgl3",
        "outputId": "b46d2b1c-8ec5-404a-9d72-3eb340d73497"
      },
      "execution_count": null,
      "outputs": [
        {
          "output_type": "stream",
          "name": "stdout",
          "text": [
            "Mounted at /content/drive\n"
          ]
        }
      ]
    },
    {
      "cell_type": "code",
      "source": [
        "import pandas as pd"
      ],
      "metadata": {
        "id": "CS1WF6Xvzzpm"
      },
      "execution_count": null,
      "outputs": []
    },
    {
      "cell_type": "code",
      "source": [
        "d=pd.read_csv('/content/data.csv')"
      ],
      "metadata": {
        "id": "u_FiHezWVqla"
      },
      "execution_count": null,
      "outputs": []
    },
    {
      "cell_type": "code",
      "source": [
        "print(d)"
      ],
      "metadata": {
        "colab": {
          "base_uri": "https://localhost:8080/"
        },
        "id": "zJMM7zz60A7p",
        "outputId": "f0e93a49-5ef7-49c6-c7a7-a64ee3b10eb7"
      },
      "execution_count": null,
      "outputs": [
        {
          "output_type": "stream",
          "name": "stdout",
          "text": [
            "          No  year  month  day  hour  pm2.5  DEWP  TEMP    PRES cbwd     Iws  \\\n",
            "0          1  2010      1    1     0    NaN   -21 -11.0  1021.0   NW    1.79   \n",
            "1          2  2010      1    1     1    NaN   -21 -12.0  1020.0   NW    4.92   \n",
            "2          3  2010      1    1     2    NaN   -21 -11.0  1019.0   NW    6.71   \n",
            "3          4  2010      1    1     3    NaN   -21 -14.0  1019.0   NW    9.84   \n",
            "4          5  2010      1    1     4    NaN   -20 -12.0  1018.0   NW   12.97   \n",
            "...      ...   ...    ...  ...   ...    ...   ...   ...     ...  ...     ...   \n",
            "43819  43820  2014     12   31    19    8.0   -23  -2.0  1034.0   NW  231.97   \n",
            "43820  43821  2014     12   31    20   10.0   -22  -3.0  1034.0   NW  237.78   \n",
            "43821  43822  2014     12   31    21   10.0   -22  -3.0  1034.0   NW  242.70   \n",
            "43822  43823  2014     12   31    22    8.0   -22  -4.0  1034.0   NW  246.72   \n",
            "43823  43824  2014     12   31    23   12.0   -21  -3.0  1034.0   NW  249.85   \n",
            "\n",
            "       Is  Ir  \n",
            "0       0   0  \n",
            "1       0   0  \n",
            "2       0   0  \n",
            "3       0   0  \n",
            "4       0   0  \n",
            "...    ..  ..  \n",
            "43819   0   0  \n",
            "43820   0   0  \n",
            "43821   0   0  \n",
            "43822   0   0  \n",
            "43823   0   0  \n",
            "\n",
            "[43824 rows x 13 columns]\n"
          ]
        }
      ]
    },
    {
      "cell_type": "code",
      "source": [
        "y=d['pm2.5']\n",
        "x1=d['year']\n",
        "print(y,x1)\n",
        "from matplotlib import pyplot as pt\n",
        "pt.scatter(y,x1)"
      ],
      "metadata": {
        "colab": {
          "base_uri": "https://localhost:8080/",
          "height": 682
        },
        "id": "c74u_Rtp0G1r",
        "outputId": "4fe5794f-b2f6-49ba-e210-5ccc117474f2"
      },
      "execution_count": null,
      "outputs": [
        {
          "output_type": "stream",
          "name": "stdout",
          "text": [
            "0         NaN\n",
            "1         NaN\n",
            "2         NaN\n",
            "3         NaN\n",
            "4         NaN\n",
            "         ... \n",
            "43819     8.0\n",
            "43820    10.0\n",
            "43821    10.0\n",
            "43822     8.0\n",
            "43823    12.0\n",
            "Name: pm2.5, Length: 43824, dtype: float64 0        2010\n",
            "1        2010\n",
            "2        2010\n",
            "3        2010\n",
            "4        2010\n",
            "         ... \n",
            "43819    2014\n",
            "43820    2014\n",
            "43821    2014\n",
            "43822    2014\n",
            "43823    2014\n",
            "Name: year, Length: 43824, dtype: int64\n"
          ]
        },
        {
          "output_type": "execute_result",
          "data": {
            "text/plain": [
              "<matplotlib.collections.PathCollection at 0x7f77af5ca210>"
            ]
          },
          "metadata": {},
          "execution_count": 5
        },
        {
          "output_type": "display_data",
          "data": {
            "text/plain": [
              "<Figure size 432x288 with 1 Axes>"
            ],
            "image/png": "[encoded data removed]"
          },
          "metadata": {
            "needs_background": "light"
          }
        }
      ]
    },
    {
      "cell_type": "code",
      "source": [
        "y=d['pm2.5']\n",
        "x2=d['month']\n",
        "print(y,x2)\n",
        "from matplotlib import pyplot as pt\n",
        "pt.scatter(y,x2)"
      ],
      "metadata": {
        "id": "yYSOntBH0zvr",
        "colab": {
          "base_uri": "https://localhost:8080/",
          "height": 682
        },
        "outputId": "034fa7fe-0438-4ca5-b761-a1408134bad5"
      },
      "execution_count": null,
      "outputs": [
        {
          "output_type": "stream",
          "name": "stdout",
          "text": [
            "0         NaN\n",
            "1         NaN\n",
            "2         NaN\n",
            "3         NaN\n",
            "4         NaN\n",
            "         ... \n",
            "43819     8.0\n",
            "43820    10.0\n",
            "43821    10.0\n",
            "43822     8.0\n",
            "43823    12.0\n",
            "Name: pm2.5, Length: 43824, dtype: float64 0         1\n",
            "1         1\n",
            "2         1\n",
            "3         1\n",
            "4         1\n",
            "         ..\n",
            "43819    12\n",
            "43820    12\n",
            "43821    12\n",
            "43822    12\n",
            "43823    12\n",
            "Name: month, Length: 43824, dtype: int64\n"
          ]
        },
        {
          "output_type": "execute_result",
          "data": {
            "text/plain": [
              "<matplotlib.collections.PathCollection at 0x7f77af015990>"
            ]
          },
          "metadata": {},
          "execution_count": 7
        },
        {
          "output_type": "display_data",
          "data": {
            "text/plain": [
              "<Figure size 432x288 with 1 Axes>"
            ],
            "image/png": "[encoded data removed]"
          },
          "metadata": {
            "needs_background": "light"
          }
        }
      ]
    },
    {
      "cell_type": "code",
      "source": [
        "y=d['pm2.5']\n",
        "x3=d['day']\n",
        "print(y,x3)\n",
        "from matplotlib import pyplot as pt\n",
        "pt.scatter(y,x3)"
      ],
      "metadata": {
        "id": "YEfoX40y0zdr",
        "colab": {
          "base_uri": "https://localhost:8080/",
          "height": 682
        },
        "outputId": "9a9489df-9171-4f15-afb5-1a4452718852"
      },
      "execution_count": null,
      "outputs": [
        {
          "output_type": "stream",
          "name": "stdout",
          "text": [
            "0         NaN\n",
            "1         NaN\n",
            "2         NaN\n",
            "3         NaN\n",
            "4         NaN\n",
            "         ... \n",
            "43819     8.0\n",
            "43820    10.0\n",
            "43821    10.0\n",
            "43822     8.0\n",
            "43823    12.0\n",
            "Name: pm2.5, Length: 43824, dtype: float64 0         1\n",
            "1         1\n",
            "2         1\n",
            "3         1\n",
            "4         1\n",
            "         ..\n",
            "43819    31\n",
            "43820    31\n",
            "43821    31\n",
            "43822    31\n",
            "43823    31\n",
            "Name: day, Length: 43824, dtype: int64\n"
          ]
        },
        {
          "output_type": "execute_result",
          "data": {
            "text/plain": [
              "<matplotlib.collections.PathCollection at 0x7f77aef83ed0>"
            ]
          },
          "metadata": {},
          "execution_count": 8
        },
        {
          "output_type": "display_data",
          "data": {
            "text/plain": [
              "<Figure size 432x288 with 1 Axes>"
            ],
            "image/png": "[encoded data removed]"
          },
          "metadata": {
            "needs_background": "light"
          }
        }
      ]
    },
    {
      "cell_type": "code",
      "source": [
        "y=d['pm2.5']\n",
        "x4=d['hour']\n",
        "print(y,x4)\n",
        "from matplotlib import pyplot as pt\n",
        "pt.scatter(y,x4)"
      ],
      "metadata": {
        "id": "5gZk-fct1W_U",
        "colab": {
          "base_uri": "https://localhost:8080/",
          "height": 682
        },
        "outputId": "1607d39d-48c0-470e-e9d1-b35744b480a3"
      },
      "execution_count": null,
      "outputs": [
        {
          "output_type": "stream",
          "name": "stdout",
          "text": [
            "0         NaN\n",
            "1         NaN\n",
            "2         NaN\n",
            "3         NaN\n",
            "4         NaN\n",
            "         ... \n",
            "43819     8.0\n",
            "43820    10.0\n",
            "43821    10.0\n",
            "43822     8.0\n",
            "43823    12.0\n",
            "Name: pm2.5, Length: 43824, dtype: float64 0         0\n",
            "1         1\n",
            "2         2\n",
            "3         3\n",
            "4         4\n",
            "         ..\n",
            "43819    19\n",
            "43820    20\n",
            "43821    21\n",
            "43822    22\n",
            "43823    23\n",
            "Name: hour, Length: 43824, dtype: int64\n"
          ]
        },
        {
          "output_type": "execute_result",
          "data": {
            "text/plain": [
              "<matplotlib.collections.PathCollection at 0x7f77aef35b50>"
            ]
          },
          "metadata": {},
          "execution_count": 9
        },
        {
          "output_type": "display_data",
          "data": {
            "text/plain": [
              "<Figure size 432x288 with 1 Axes>"
            ],
            "image/png": "[encoded data removed]"
          },
          "metadata": {
            "needs_background": "light"
          }
        }
      ]
    },
    {
      "cell_type": "code",
      "source": [
        "y=d['pm2.5']\n",
        "x5=d['DEWP']\n",
        "print(y,x5)\n",
        "from matplotlib import pyplot as pt\n",
        "pt.scatter(y,x5)"
      ],
      "metadata": {
        "colab": {
          "base_uri": "https://localhost:8080/",
          "height": 682
        },
        "id": "o8a7AhWa3O4h",
        "outputId": "7cda333e-fb62-4869-e38a-3a6289b51bcd"
      },
      "execution_count": null,
      "outputs": [
        {
          "output_type": "stream",
          "name": "stdout",
          "text": [
            "0         NaN\n",
            "1         NaN\n",
            "2         NaN\n",
            "3         NaN\n",
            "4         NaN\n",
            "         ... \n",
            "43819     8.0\n",
            "43820    10.0\n",
            "43821    10.0\n",
            "43822     8.0\n",
            "43823    12.0\n",
            "Name: pm2.5, Length: 43824, dtype: float64 0       -21\n",
            "1       -21\n",
            "2       -21\n",
            "3       -21\n",
            "4       -20\n",
            "         ..\n",
            "43819   -23\n",
            "43820   -22\n",
            "43821   -22\n",
            "43822   -22\n",
            "43823   -21\n",
            "Name: DEWP, Length: 43824, dtype: int64\n"
          ]
        },
        {
          "output_type": "execute_result",
          "data": {
            "text/plain": [
              "<matplotlib.collections.PathCollection at 0x7f77aee9c090>"
            ]
          },
          "metadata": {},
          "execution_count": 10
        },
        {
          "output_type": "display_data",
          "data": {
            "text/plain": [
              "<Figure size 432x288 with 1 Axes>"
            ],
            "image/png": "[encoded data removed]"
          },
          "metadata": {
            "needs_background": "light"
          }
        }
      ]
    },
    {
      "cell_type": "code",
      "source": [
        "y=d['pm2.5']\n",
        "x6=d['TEMP']\n",
        "print(y,x6)\n",
        "from matplotlib import pyplot as pt\n",
        "pt.scatter(y,x6)"
      ],
      "metadata": {
        "colab": {
          "base_uri": "https://localhost:8080/",
          "height": 682
        },
        "id": "ppysO3R13j4X",
        "outputId": "f634499a-6b6b-43cd-a7c5-341341c8cf53"
      },
      "execution_count": null,
      "outputs": [
        {
          "output_type": "stream",
          "name": "stdout",
          "text": [
            "0         NaN\n",
            "1         NaN\n",
            "2         NaN\n",
            "3         NaN\n",
            "4         NaN\n",
            "         ... \n",
            "43819     8.0\n",
            "43820    10.0\n",
            "43821    10.0\n",
            "43822     8.0\n",
            "43823    12.0\n",
            "Name: pm2.5, Length: 43824, dtype: float64 0       -11.0\n",
            "1       -12.0\n",
            "2       -11.0\n",
            "3       -14.0\n",
            "4       -12.0\n",
            "         ... \n",
            "43819    -2.0\n",
            "43820    -3.0\n",
            "43821    -3.0\n",
            "43822    -4.0\n",
            "43823    -3.0\n",
            "Name: TEMP, Length: 43824, dtype: float64\n"
          ]
        },
        {
          "output_type": "execute_result",
          "data": {
            "text/plain": [
              "<matplotlib.collections.PathCollection at 0x7f77aee0e650>"
            ]
          },
          "metadata": {},
          "execution_count": 11
        },
        {
          "output_type": "display_data",
          "data": {
            "text/plain": [
              "<Figure size 432x288 with 1 Axes>"
            ],
            "image/png": "[encoded data removed]"
          },
          "metadata": {
            "needs_background": "light"
          }
        }
      ]
    },
    {
      "cell_type": "code",
      "source": [
        "y=d['pm2.5']\n",
        "x7=d['PRES']\n",
        "print(y,x7)\n",
        "from matplotlib import pyplot as pt\n",
        "pt.scatter(y,x7)"
      ],
      "metadata": {
        "colab": {
          "base_uri": "https://localhost:8080/",
          "height": 682
        },
        "id": "KowFKdwg4GYE",
        "outputId": "02863bd0-07b0-4ad9-8cf9-8125abe72984"
      },
      "execution_count": null,
      "outputs": [
        {
          "output_type": "stream",
          "name": "stdout",
          "text": [
            "0         NaN\n",
            "1         NaN\n",
            "2         NaN\n",
            "3         NaN\n",
            "4         NaN\n",
            "         ... \n",
            "43819     8.0\n",
            "43820    10.0\n",
            "43821    10.0\n",
            "43822     8.0\n",
            "43823    12.0\n",
            "Name: pm2.5, Length: 43824, dtype: float64 0        1021.0\n",
            "1        1020.0\n",
            "2        1019.0\n",
            "3        1019.0\n",
            "4        1018.0\n",
            "          ...  \n",
            "43819    1034.0\n",
            "43820    1034.0\n",
            "43821    1034.0\n",
            "43822    1034.0\n",
            "43823    1034.0\n",
            "Name: PRES, Length: 43824, dtype: float64\n"
          ]
        },
        {
          "output_type": "execute_result",
          "data": {
            "text/plain": [
              "<matplotlib.collections.PathCollection at 0x7f77af536e90>"
            ]
          },
          "metadata": {},
          "execution_count": 12
        },
        {
          "output_type": "display_data",
          "data": {
            "text/plain": [
              "<Figure size 432x288 with 1 Axes>"
            ],
            "image/png": "[encoded data removed]"
          },
          "metadata": {
            "needs_background": "light"
          }
        }
      ]
    },
    {
      "cell_type": "code",
      "source": [
        "y=d['pm2.5']\n",
        "x8=d['cbwd']\n",
        "print(y,x8)\n",
        "from matplotlib import pyplot as pt\n",
        "pt.scatter(y,x8)"
      ],
      "metadata": {
        "colab": {
          "base_uri": "https://localhost:8080/",
          "height": 682
        },
        "id": "mgGf2qlK4pvx",
        "outputId": "2bf1d7de-89c1-4102-a17c-4c4db91136ec"
      },
      "execution_count": null,
      "outputs": [
        {
          "output_type": "stream",
          "name": "stdout",
          "text": [
            "0         NaN\n",
            "1         NaN\n",
            "2         NaN\n",
            "3         NaN\n",
            "4         NaN\n",
            "         ... \n",
            "43819     8.0\n",
            "43820    10.0\n",
            "43821    10.0\n",
            "43822     8.0\n",
            "43823    12.0\n",
            "Name: pm2.5, Length: 43824, dtype: float64 0        NW\n",
            "1        NW\n",
            "2        NW\n",
            "3        NW\n",
            "4        NW\n",
            "         ..\n",
            "43819    NW\n",
            "43820    NW\n",
            "43821    NW\n",
            "43822    NW\n",
            "43823    NW\n",
            "Name: cbwd, Length: 43824, dtype: object\n"
          ]
        },
        {
          "output_type": "execute_result",
          "data": {
            "text/plain": [
              "<matplotlib.collections.PathCollection at 0x7f77aef19690>"
            ]
          },
          "metadata": {},
          "execution_count": 14
        },
        {
          "output_type": "display_data",
          "data": {
            "text/plain": [
              "<Figure size 432x288 with 1 Axes>"
            ],
            "image/png": "[encoded data removed]"
          },
          "metadata": {
            "needs_background": "light"
          }
        }
      ]
    },
    {
      "cell_type": "code",
      "source": [
        "y=d['pm2.5']\n",
        "x9=d['Iws']\n",
        "print(y,x9)\n",
        "from matplotlib import pyplot as pt\n",
        "pt.scatter(y,x9)"
      ],
      "metadata": {
        "colab": {
          "base_uri": "https://localhost:8080/",
          "height": 682
        },
        "id": "tBA4TZOp45E7",
        "outputId": "df2d942c-7320-422e-8920-aabc78543780"
      },
      "execution_count": null,
      "outputs": [
        {
          "output_type": "stream",
          "name": "stdout",
          "text": [
            "0         NaN\n",
            "1         NaN\n",
            "2         NaN\n",
            "3         NaN\n",
            "4         NaN\n",
            "         ... \n",
            "43819     8.0\n",
            "43820    10.0\n",
            "43821    10.0\n",
            "43822     8.0\n",
            "43823    12.0\n",
            "Name: pm2.5, Length: 43824, dtype: float64 0          1.79\n",
            "1          4.92\n",
            "2          6.71\n",
            "3          9.84\n",
            "4         12.97\n",
            "          ...  \n",
            "43819    231.97\n",
            "43820    237.78\n",
            "43821    242.70\n",
            "43822    246.72\n",
            "43823    249.85\n",
            "Name: Iws, Length: 43824, dtype: float64\n"
          ]
        },
        {
          "output_type": "execute_result",
          "data": {
            "text/plain": [
              "<matplotlib.collections.PathCollection at 0x7f77aebaa810>"
            ]
          },
          "metadata": {},
          "execution_count": 15
        },
        {
          "output_type": "display_data",
          "data": {
            "text/plain": [
              "<Figure size 432x288 with 1 Axes>"
            ],
            "image/png": "[encoded data removed]"
          },
          "metadata": {
            "needs_background": "light"
          }
        }
      ]
    },
    {
      "cell_type": "code",
      "source": [
        "y=d['pm2.5']\n",
        "x10=d['Is']\n",
        "print(y,x10)\n",
        "from matplotlib import pyplot as pt\n",
        "pt.scatter(y,x10)"
      ],
      "metadata": {
        "colab": {
          "base_uri": "https://localhost:8080/",
          "height": 682
        },
        "id": "rmCGM34E450Q",
        "outputId": "83f714de-cda7-4eba-f143-b7e6ed0a1f93"
      },
      "execution_count": null,
      "outputs": [
        {
          "output_type": "stream",
          "name": "stdout",
          "text": [
            "0         NaN\n",
            "1         NaN\n",
            "2         NaN\n",
            "3         NaN\n",
            "4         NaN\n",
            "         ... \n",
            "43819     8.0\n",
            "43820    10.0\n",
            "43821    10.0\n",
            "43822     8.0\n",
            "43823    12.0\n",
            "Name: pm2.5, Length: 43824, dtype: float64 0        0\n",
            "1        0\n",
            "2        0\n",
            "3        0\n",
            "4        0\n",
            "        ..\n",
            "43819    0\n",
            "43820    0\n",
            "43821    0\n",
            "43822    0\n",
            "43823    0\n",
            "Name: Is, Length: 43824, dtype: int64\n"
          ]
        },
        {
          "output_type": "execute_result",
          "data": {
            "text/plain": [
              "<matplotlib.collections.PathCollection at 0x7f77aeb0cd50>"
            ]
          },
          "metadata": {},
          "execution_count": 16
        },
        {
          "output_type": "display_data",
          "data": {
            "text/plain": [
              "<Figure size 432x288 with 1 Axes>"
            ],
            "image/png": "[encoded data removed]"
          },
          "metadata": {
            "needs_background": "light"
          }
        }
      ]
    },
    {
      "cell_type": "code",
      "source": [
        "y=d['pm2.5']\n",
        "x11=d['Ir']\n",
        "print(y,x11)\n",
        "from matplotlib import pyplot as pt\n",
        "pt.scatter(y,x11)"
      ],
      "metadata": {
        "colab": {
          "base_uri": "https://localhost:8080/",
          "height": 682
        },
        "id": "teV5ikUp5uRN",
        "outputId": "d4d6e7a3-7ca9-4e61-dfa4-21f74e98af0e"
      },
      "execution_count": null,
      "outputs": [
        {
          "output_type": "stream",
          "name": "stdout",
          "text": [
            "0         NaN\n",
            "1         NaN\n",
            "2         NaN\n",
            "3         NaN\n",
            "4         NaN\n",
            "         ... \n",
            "43819     8.0\n",
            "43820    10.0\n",
            "43821    10.0\n",
            "43822     8.0\n",
            "43823    12.0\n",
            "Name: pm2.5, Length: 43824, dtype: float64 0        0\n",
            "1        0\n",
            "2        0\n",
            "3        0\n",
            "4        0\n",
            "        ..\n",
            "43819    0\n",
            "43820    0\n",
            "43821    0\n",
            "43822    0\n",
            "43823    0\n",
            "Name: Ir, Length: 43824, dtype: int64\n"
          ]
        },
        {
          "output_type": "execute_result",
          "data": {
            "text/plain": [
              "<matplotlib.collections.PathCollection at 0x7f77aea86090>"
            ]
          },
          "metadata": {},
          "execution_count": 17
        },
        {
          "output_type": "display_data",
          "data": {
            "text/plain": [
              "<Figure size 432x288 with 1 Axes>"
            ],
            "image/png": "[encoded data removed]"
          },
          "metadata": {
            "needs_background": "light"
          }
        }
      ]
    }
  ]
}